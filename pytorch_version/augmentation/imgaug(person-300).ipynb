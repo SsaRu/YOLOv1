{
 "cells": [
  {
   "cell_type": "code",
   "execution_count": 7,
   "metadata": {},
   "outputs": [],
   "source": [
    "import imgaug as ia\n",
    "from imgaug import augmenters as iaa\n",
    "import matplotlib.pyplot as plt \n",
    "%matplotlib inline\n",
    "ia.seed(1)"
   ]
  },
  {
   "cell_type": "code",
   "execution_count": 8,
   "metadata": {},
   "outputs": [],
   "source": [
    "import shutil\n",
    "import torch\n",
    "import torch.nn as nn\n",
    "import torchvision\n",
    "import torchvision.transforms as transforms\n",
    "import sys\n",
    "sys.path.append('../')\n",
    "from torchsummary.torchsummary import summary\n",
    "from dataloader import VOC\n",
    "import numpy as np\n",
    "import matplotlib.pyplot as plt\n",
    "import yolov1\n",
    "from yolov1 import detection_collate\n",
    "from yolov1 import detection_loss\n",
    "from yolov1 import save_checkpoint"
   ]
  },
  {
   "cell_type": "code",
   "execution_count": 4,
   "metadata": {},
   "outputs": [
    {
     "name": "stdout",
     "output_type": "stream",
     "text": [
      "\n",
      "VOC Parsing:   |████████████████████████████████████████| 100.0% (300/300)  Complete\n",
      "\n",
      "\n",
      "YOLO Generating:|████████████████████████████████████████| 100.0% (300/300)  Complete\n",
      "\n"
     ]
    }
   ],
   "source": [
    "DATASET_PATH_MARTIN = \"/media/keti-ai/AI_HARD3/DataSets/VOC_Pascal/VOC/VOCdevkit/VOC2012\"\n",
    "DATASET_PATH_JAEWON = \"H:\\VOC\\VOC12\\VOCdevkit_2\\VOC2012\"\n",
    "SMALL_DATASET_PATH = \"H:/person-300\"\n",
    "train_dataset = VOC(root = SMALL_DATASET_PATH,\n",
    "                    transform=transforms.ToTensor(), cls_option = True, selective_cls=\"person\")"
   ]
  },
  {
   "cell_type": "code",
   "execution_count": 11,
   "metadata": {},
   "outputs": [],
   "source": [
    "batch_size = 1\n",
    "train_loader = torch.utils.data.DataLoader(dataset=train_dataset,\n",
    "                                           batch_size = batch_size,\n",
    "                                           shuffle = True,\n",
    "                                           collate_fn=detection_collate)"
   ]
  },
  {
   "cell_type": "code",
   "execution_count": 12,
   "metadata": {},
   "outputs": [],
   "source": [
    "data_iterator = iter(train_loader)"
   ]
  },
  {
   "cell_type": "code",
   "execution_count": 13,
   "metadata": {},
   "outputs": [],
   "source": [
    "image, label = data_iterator.next()"
   ]
  },
  {
   "cell_type": "code",
   "execution_count": 10,
   "metadata": {},
   "outputs": [],
   "source": [
    "bbs = ia.BoundingBoxesOnImage([\n",
    "    ia.BoundingBox(x1=65, y1=100, x2=200, y2=150)\n",
    "], shape=(448,448))"
   ]
  },
  {
   "cell_type": "code",
   "execution_count": 15,
   "metadata": {},
   "outputs": [
    {
     "data": {
      "text/plain": [
       "torch.Size([1, 7, 7, 6])"
      ]
     },
     "execution_count": 15,
     "metadata": {},
     "output_type": "execute_result"
    }
   ],
   "source": [
    "label.shape"
   ]
  },
  {
   "cell_type": "code",
   "execution_count": null,
   "metadata": {},
   "outputs": [],
   "source": []
  }
 ],
 "metadata": {
  "kernelspec": {
   "display_name": "Python 3",
   "language": "python",
   "name": "python3"
  },
  "language_info": {
   "codemirror_mode": {
    "name": "ipython",
    "version": 3
   },
   "file_extension": ".py",
   "mimetype": "text/x-python",
   "name": "python",
   "nbconvert_exporter": "python",
   "pygments_lexer": "ipython3",
   "version": "3.6.5"
  }
 },
 "nbformat": 4,
 "nbformat_minor": 2
}
