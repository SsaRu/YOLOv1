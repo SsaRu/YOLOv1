{
 "cells": [
  {
   "cell_type": "markdown",
   "metadata": {},
   "source": [
    "# person-300 dataset overview\n",
    "\n",
    "person-300 dataset is subset of PASCAL VOC by Martin   \n",
    "It contains `Annotations`, `JPEGImages`, `voc.names`\n",
    "\n",
    "Folder `Annotations` has annotations in forms of VOC style xml"
   ]
  },
  {
   "cell_type": "markdown",
   "metadata": {},
   "source": [
    "# annotation exmple\n",
    "2007_000480.xml  \n",
    "`2007_000480.xml` is annotations for `2007_000480.jpg`"
   ]
  },
  {
   "cell_type": "markdown",
   "metadata": {},
   "source": [
    "`<annotation>\n",
    "\t<size>\n",
    "\t\t<width>500</width>\n",
    "\t\t<height>375</height>\n",
    "\t\t<depth>3</depth>\n",
    "\t</size>\n",
    "\t<segmented>0</segmented>\n",
    "\t<object>\n",
    "\t\t<name>person</name>\n",
    "\t\t<pose>Unspecified</pose>\n",
    "\t\t<truncated>0</truncated>\n",
    "\t\t<difficult>0</difficult>\n",
    "\t\t<bndbox>\n",
    "\t\t\t<xmin>293.0</xmin>\n",
    "\t\t\t<ymin>162.0</ymin>\n",
    "\t\t\t<xmax>419.0</xmax>\n",
    "\t\t\t<ymax>375.0</ymax>\n",
    "\t\t</bndbox>\n",
    "\t</object>\n",
    "\t<object>\n",
    "\t\t<name>person</name>\n",
    "\t\t<pose>Unspecified</pose>\n",
    "\t\t<truncated>0</truncated>\n",
    "\t\t<difficult>0</difficult>\n",
    "\t\t<bndbox>\n",
    "\t\t\t<xmin>114.0</xmin>\n",
    "\t\t\t<ymin>165.0</ymin>\n",
    "\t\t\t<xmax>228.0</xmax>\n",
    "\t\t\t<ymax>373.0</ymax>\n",
    "\t\t</bndbox>\n",
    "\t</object>\n",
    "\t<object>\n",
    "\t\t<name>person</name>\n",
    "\t\t<pose>Unspecified</pose>\n",
    "\t\t<truncated>0</truncated>\n",
    "\t\t<difficult>0</difficult>\n",
    "\t\t<bndbox>\n",
    "\t\t\t<xmin>5.0</xmin>\n",
    "\t\t\t<ymin>172.0</ymin>\n",
    "\t\t\t<xmax>116.0</xmax>\n",
    "\t\t\t<ymax>373.0</ymax>\n",
    "\t\t</bndbox>\n",
    "\t</object>\n",
    "</annotation>`"
   ]
  },
  {
   "cell_type": "code",
   "execution_count": null,
   "metadata": {},
   "outputs": [],
   "source": []
  },
  {
   "cell_type": "code",
   "execution_count": null,
   "metadata": {},
   "outputs": [],
   "source": []
  },
  {
   "cell_type": "code",
   "execution_count": null,
   "metadata": {},
   "outputs": [],
   "source": []
  },
  {
   "cell_type": "code",
   "execution_count": null,
   "metadata": {},
   "outputs": [],
   "source": []
  },
  {
   "cell_type": "code",
   "execution_count": null,
   "metadata": {},
   "outputs": [],
   "source": []
  }
 ],
 "metadata": {
  "kernelspec": {
   "display_name": "Python 3",
   "language": "python",
   "name": "python3"
  },
  "language_info": {
   "codemirror_mode": {
    "name": "ipython",
    "version": 3
   },
   "file_extension": ".py",
   "mimetype": "text/x-python",
   "name": "python",
   "nbconvert_exporter": "python",
   "pygments_lexer": "ipython3",
   "version": "3.6.5"
  }
 },
 "nbformat": 4,
 "nbformat_minor": 2
}
